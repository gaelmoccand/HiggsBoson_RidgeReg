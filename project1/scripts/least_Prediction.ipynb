{
 "cells": [
  {
   "cell_type": "code",
   "execution_count": 84,
   "metadata": {},
   "outputs": [
    {
     "name": "stdout",
     "output_type": "stream",
     "text": [
      "The autoreload extension is already loaded. To reload it, use:\n",
      "  %reload_ext autoreload\n"
     ]
    }
   ],
   "source": [
    "# Useful starting lines\n",
    "%matplotlib inline\n",
    "import numpy as np\n",
    "import matplotlib.pyplot as plt\n",
    "%load_ext autoreload\n",
    "%autoreload 2"
   ]
  },
  {
   "cell_type": "code",
   "execution_count": 34,
   "metadata": {
    "collapsed": true
   },
   "outputs": [],
   "source": [
    "# Use ridge regression with different lambdas and poly degrees to make the predictions"
   ]
  },
  {
   "cell_type": "code",
   "execution_count": 83,
   "metadata": {
    "collapsed": true
   },
   "outputs": [],
   "source": [
    "from proj1_helpers import *\n",
    "from helpers import *\n",
    "from implementations import *"
   ]
  },
  {
   "cell_type": "code",
   "execution_count": 36,
   "metadata": {
    "collapsed": true
   },
   "outputs": [],
   "source": [
    "def build_k_indices(y, k_fold, seed):\n",
    "    \"\"\"build k indices for k-fold.\"\"\"\n",
    "    num_row = y.shape[0]\n",
    "    interval = int(num_row / k_fold)\n",
    "    np.random.seed(seed)\n",
    "    indices = np.random.permutation(num_row)\n",
    "    k_indices = [indices[k * interval: (k + 1) * interval] for k in range(k_fold)]\n",
    "    return np.array(k_indices)"
   ]
  },
  {
   "cell_type": "code",
   "execution_count": 86,
   "metadata": {
    "collapsed": true
   },
   "outputs": [],
   "source": [
    "from plots import cross_validation_visualization_poly\n",
    "from build_polynomial import *\n",
    "\n",
    "def cross_validation_demo():\n",
    "    seed = 1\n",
    "    degrees = np.array([2,4,6,7,9])\n",
    "    k_fold = 4\n",
    "    #lambdas = np.logspace(-2, 0, 30)\n",
    "    # split data in k fold\n",
    "    k_indices = build_k_indices(y, k_fold, seed)\n",
    "    # define lists to store the loss of training data and test data\n",
    "    rmse_tr = []\n",
    "    rmse_te = []\n",
    "    # cross validation\n",
    "    for degree in degrees:\n",
    "        print(degree)\n",
    "        rmse_tr_tmp = []\n",
    "        rmse_te_tmp = []\n",
    "        for k in range(k_fold):\n",
    "            loss_tr, loss_te,w = cross_validation(y, tx, k_indices, k, degree)\n",
    "            rmse_tr_tmp.append(loss_tr)\n",
    "            rmse_te_tmp.append(loss_te)\n",
    "        rmse_tr.append(np.mean(rmse_tr_tmp))\n",
    "        rmse_te.append(np.mean(rmse_te_tmp))\n",
    "\n",
    "    cross_validation_visualization_poly(degrees, rmse_tr, rmse_te,degree)"
   ]
  },
  {
   "cell_type": "code",
   "execution_count": 61,
   "metadata": {
    "collapsed": true
   },
   "outputs": [],
   "source": [
    "def cross_validation(y, x, k_indices, k, degree):\n",
    "    \"\"\"return the loss of ridge regression.\"\"\"\n",
    "    # get k'th subgroup in test, others in train\n",
    "    te_indice = k_indices[k]\n",
    "    tr_indice = k_indices[~(np.arange(k_indices.shape[0]) == k)]\n",
    "    tr_indice = tr_indice.reshape(-1)\n",
    "    y_te = y[te_indice]\n",
    "    y_tr = y[tr_indice]\n",
    "    x_te = x[te_indice]\n",
    "    x_tr = x[tr_indice]\n",
    "    # form data with polynomial degree\n",
    "    tx_tr = build_poly(x_tr, degree)\n",
    "    tx_te = build_poly(x_te, degree)\n",
    "    # ridge regression\n",
    "    w = least_squares(y_tr, tx_tr)\n",
    "    # calculate the loss for train and test data\n",
    "    loss_tr = np.sqrt(2 * compute_loss(y_tr, tx_tr, w))\n",
    "    loss_te = np.sqrt(2 * compute_loss(y_te, tx_te, w))\n",
    "    return loss_tr, loss_te,w"
   ]
  },
  {
   "cell_type": "code",
   "execution_count": 39,
   "metadata": {
    "collapsed": true
   },
   "outputs": [],
   "source": [
    "y_data,x_data,ind=load_csv_data('data/train.csv/train.csv')"
   ]
  },
  {
   "cell_type": "code",
   "execution_count": 40,
   "metadata": {},
   "outputs": [
    {
     "name": "stdout",
     "output_type": "stream",
     "text": [
      "(20000, 29)\n",
      "(20000, 1)\n",
      "(29, 1)\n",
      "[  2.15000000e+00   7.25000000e-01   2.05300000e+00 ...,   1.80000000e+00\n",
      "  -9.99000000e+02  -9.99000000e+02]\n"
     ]
    }
   ],
   "source": [
    "\n",
    "#X=x_data[:,[1,2,3,7,8,9,10,11]] #raw data\n",
    "#X=x_data[:,13:22] # computed data\n",
    "#X=x_data[:,[1,2,3,7,8,9,10,11,13,14,15,16,17,18,19,20,21,22]] # computed data\n",
    "#X=x_data[:,[1,2,3,7,8,9,10,13,14,16,17,19,21,22,29]] # without phi\n",
    "#X=x_data[:,[1,2,3,7,8,9,10,11,13,14,15,16,17,18,19,20,21,22,29]] # wihtout -999\n",
    "X=x_data[:,[0,1,2,3,4,5,6,7,8,9,10,12,13,14,15,16,17,19,20,21,22,23,24,25,26,27,28,29]] # without 11 and 18\n",
    "#X=x_data\n",
    "\n",
    "y_samp, x_samp = sample_data(y_data, X, 1, size_samples=20000)\n",
    "#y_samp =y_data\n",
    "#x_samp = X\n",
    "#x_samp, mean_x, std_x = standardize(x_samp)\n",
    "x_samp, mean_x, std_x=standardizeNan(x_samp)\n",
    "tx = np.c_[np.ones((y_samp.shape[0], 1)), x_samp]\n",
    "initial_w = np.zeros((tx.shape[1], 1))\n",
    "\n",
    "y = np.expand_dims(y_samp, axis=1)\n",
    "print(tx.shape)\n",
    "print(y.shape)\n",
    "print(initial_w.shape)\n",
    "print(X[:,22])\n",
    "\n"
   ]
  },
  {
   "cell_type": "code",
   "execution_count": 92,
   "metadata": {},
   "outputs": [
    {
     "name": "stdout",
     "output_type": "stream",
     "text": [
      "2\n",
      "4\n",
      "6\n",
      "7\n",
      "9\n"
     ]
    },
    {
     "data": {
      "image/png": "[encoded data removed]",
      "text/plain": [
       "<matplotlib.figure.Figure at 0x2c1d8710>"
      ]
     },
     "metadata": {},
     "output_type": "display_data"
    }
   ],
   "source": [
    "cross_validation_demo()\n"
   ]
  },
  {
   "cell_type": "code",
   "execution_count": 52,
   "metadata": {},
   "outputs": [
    {
     "name": "stdout",
     "output_type": "stream",
     "text": [
      "[[ 1.8125]]\n"
     ]
    }
   ],
   "source": [
    "polyN = 2\n",
    "tx_tr = build_poly(tx, polyN) # full set 250K all data features with preprocessing\n",
    "w=least_squares(y, tx_tr)\n",
    "y_prime = predict_labels(w,tx_tr)\n",
    "loss=compute_loss(y_prime,tx_tr,w);\n",
    "print(loss)"
   ]
  },
  {
   "cell_type": "code",
   "execution_count": 53,
   "metadata": {},
   "outputs": [
    {
     "name": "stdout",
     "output_type": "stream",
     "text": [
      "[[ 2.22637775]]\n"
     ]
    }
   ],
   "source": [
    "polyN = 3\n",
    "tx_tr = build_poly(tx, polyN) # full set 250K all data features with preprocessing\n",
    "w=least_squares(y, tx_tr)\n",
    "y_prime = predict_labels(w,tx_tr)\n",
    "loss=compute_loss(y_prime,tx_tr,w);\n",
    "print(loss)"
   ]
  },
  {
   "cell_type": "code",
   "execution_count": 54,
   "metadata": {},
   "outputs": [
    {
     "name": "stdout",
     "output_type": "stream",
     "text": [
      "[[ 0.18622532]]\n"
     ]
    }
   ],
   "source": [
    "polyN = 4\n",
    "tx_tr = build_poly(tx, polyN) # full set 250K all data features with preprocessing\n",
    "w=least_squares(y, tx_tr)\n",
    "y_prime = predict_labels(w,tx_tr)\n",
    "loss=compute_loss(y_prime,tx_tr,w);\n",
    "print(loss)"
   ]
  },
  {
   "cell_type": "code",
   "execution_count": 58,
   "metadata": {},
   "outputs": [
    {
     "name": "stdout",
     "output_type": "stream",
     "text": [
      "[[ 0.18378573]]\n"
     ]
    }
   ],
   "source": [
    "polyN = 6\n",
    "tx_tr = build_poly(tx, polyN) # full set 250K all data features with preprocessing\n",
    "w=least_squares(y, tx_tr)\n",
    "y_prime = predict_labels(w,tx_tr)\n",
    "loss=compute_loss(y_prime,tx_tr,w);\n",
    "print(loss)"
   ]
  },
  {
   "cell_type": "code",
   "execution_count": 59,
   "metadata": {},
   "outputs": [
    {
     "name": "stdout",
     "output_type": "stream",
     "text": [
      "[[ 0.1716764]]\n"
     ]
    }
   ],
   "source": [
    "polyN = 8\n",
    "tx_tr = build_poly(tx, polyN) # full set 250K all data features with preprocessing\n",
    "w=least_squares(y, tx_tr)\n",
    "y_prime = predict_labels(w,tx_tr)\n",
    "loss=compute_loss(y_prime,tx_tr,w);\n",
    "print(loss)"
   ]
  },
  {
   "cell_type": "code",
   "execution_count": null,
   "metadata": {
    "collapsed": true
   },
   "outputs": [],
   "source": []
  }
 ],
 "metadata": {
  "kernelspec": {
   "display_name": "Python 3",
   "language": "python",
   "name": "python3"
  },
  "language_info": {
   "codemirror_mode": {
    "name": "ipython",
    "version": 3
   },
   "file_extension": ".py",
   "mimetype": "text/x-python",
   "name": "python",
   "nbconvert_exporter": "python",
   "pygments_lexer": "ipython3",
   "version": "3.6.1"
  }
 },
 "nbformat": 4,
 "nbformat_minor": 2
}
